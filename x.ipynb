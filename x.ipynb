{
 "cells": [
  {
   "cell_type": "code",
   "execution_count": 7,
   "metadata": {},
   "outputs": [],
   "source": [
    "from enum import Enum\n",
    "from typing import Tuple\n",
    "\n",
    "class SplitType(Enum):\n",
    "    DivUp = 0\n",
    "    Mod = 1\n",
    "\n",
    "class Index:\n",
    "    def __init__(self, parent: 'Index', divisor: int, split_ty: SplitType):\n",
    "        self.parent = parent\n",
    "        self.divisor = divisor\n",
    "        self.split_ty = split_ty\n",
    "\n",
    "    def __str__(self) -> str:\n",
    "        if self.split_ty == SplitType.DivUp:\n",
    "            return f\"({str(self.parent)} + {self.divisor - 1}) / {self.divisor}\"\n",
    "        else:\n",
    "            return f\"{str(self.parent)} % {self.divisor}\"\n",
    "        \n",
    "    def __repr__(self) -> str:\n",
    "        return self.__str__()\n",
    "\n",
    "    def split(self, divisor: int) -> 'Tuple[Index, Index]':\n",
    "        return Index(self, divisor, SplitType.DivUp), Index(self, divisor, SplitType.Mod)\n",
    "\n",
    "class LinearIndex(Index):\n",
    "    def __init__(self, name: str):\n",
    "        self.name = name\n",
    "\n",
    "    def __str__(self) -> str:\n",
    "        return self.name\n",
    "\n",
    "    def __repr__(self) -> str:\n",
    "        return self.__str__()"
   ]
  },
  {
   "cell_type": "code",
   "execution_count": 9,
   "metadata": {},
   "outputs": [],
   "source": [
    "N = LinearIndex('N')\n",
    "N_div4, N_mod4 = N.split(4)"
   ]
  },
  {
   "cell_type": "code",
   "execution_count": null,
   "metadata": {},
   "outputs": [],
   "source": []
  }
 ],
 "metadata": {
  "kernelspec": {
   "display_name": "Python 3",
   "language": "python",
   "name": "python3"
  },
  "language_info": {
   "codemirror_mode": {
    "name": "ipython",
    "version": 3
   },
   "file_extension": ".py",
   "mimetype": "text/x-python",
   "name": "python",
   "nbconvert_exporter": "python",
   "pygments_lexer": "ipython3",
   "version": "3.10.9"
  }
 },
 "nbformat": 4,
 "nbformat_minor": 2
}
